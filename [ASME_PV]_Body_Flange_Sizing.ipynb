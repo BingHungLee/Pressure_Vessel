{
  "nbformat": 4,
  "nbformat_minor": 0,
  "metadata": {
    "colab": {
      "name": "[ASME_PV]_Body_Flange_Sizing.ipynb",
      "provenance": [],
      "include_colab_link": true
    },
    "kernelspec": {
      "name": "python3",
      "display_name": "Python 3"
    }
  },
  "cells": [
    {
      "cell_type": "markdown",
      "metadata": {
        "id": "view-in-github",
        "colab_type": "text"
      },
      "source": [
        "<a href=\"https://colab.research.google.com/github/BingHungLee/Pressure_Vessel/blob/master/%5BASME_PV%5D_Body_Flange_Sizing.ipynb\" target=\"_parent\"><img src=\"https://colab.research.google.com/assets/colab-badge.svg\" alt=\"Open In Colab\"/></a>"
      ]
    },
    {
      "cell_type": "code",
      "metadata": {
        "id": "3MfaztFwUrSO",
        "colab_type": "code",
        "colab": {
          "base_uri": "https://localhost:8080/",
          "height": 54
        },
        "outputId": "ca6d97ad-78e7-490a-9f72-bddb6bb540f9"
      },
      "source": [
        "'''\n",
        "Shell ID [tc,mm] , \n",
        "  for HX the thickness is based on TEMA E3.13 minimum thickness of shell , \n",
        "  Common used thickness 6(SS only),9,12,14,16,19,22,25,28,32,36\n",
        "Flange small end [go,mm]\n",
        "Flange large end [g1,mm]\n",
        "Flange hub length [hub,mm]\n",
        "Bolt Circle Area [BCD,mm]\n",
        "Flange OD [FOD]\n",
        "Flange ID [FID]\n",
        "Gasket OD [GOD]\n",
        "Gasket ID [GID]\n",
        "Gasket Width [W]\n",
        "Flange thickness [Fthk]\n",
        "E\n",
        "RH\n",
        "Bmin\n",
        "Flange Total thickness [FTthk]\n",
        "Number of Bolts [NoB]\n",
        "Bolt Spec [M]\n",
        "'''"
      ],
      "execution_count": 1,
      "outputs": [
        {
          "output_type": "execute_result",
          "data": {
            "text/plain": [
              "'\\nShell ID [tc,mm] , \\n  for HX the thickness is based on TEMA E3.13 minimum thickness of shell , \\n  Common used thickness 6(SS only),9,12,14,16,19,22,25,28,32,36\\nFlange small end [go,mm]\\nFlange large end [g1,mm]\\nFlange hub length [hub,mm]\\nBolt Circle Area [BCD,mm]\\nFlange OD [FOD]\\nFlange ID [FID]\\nGasket OD [GOD]\\nGasket ID [GID]\\nGasket Width [W]\\nFlange thickness [Fthk]\\nE\\nRH\\nBmin\\nFlange Total thickness [FTthk]\\nNumber of Bolts [NoB]\\nBolt Spec [M]\\n'"
            ]
          },
          "metadata": {
            "tags": []
          },
          "execution_count": 1
        }
      ]
    },
    {
      "cell_type": "markdown",
      "metadata": {
        "id": "YBXwE3JeW4bV",
        "colab_type": "text"
      },
      "source": [
        "Python Collections (Arrays)\n",
        "There are four collection data types in the Python programming language:\n",
        "\n",
        "* List is a collection which is ordered and changeable. Allows duplicate members.\n",
        "* Tuple is a collection which is ordered and unchangeable. Allows duplicate members.\n",
        "* Set is a collection which is unordered and unindexed. No duplicate members.\n",
        "* Dictionary is a collection which is unordered, changeable and indexed. No duplicate members.\n",
        "\n",
        "Reference: https://www.w3schools.com/python/python_lists.asp"
      ]
    },
    {
      "cell_type": "code",
      "metadata": {
        "id": "dtjaTjrWWffW",
        "colab_type": "code",
        "colab": {}
      },
      "source": [
        ""
      ],
      "execution_count": 0,
      "outputs": []
    }
  ]
}