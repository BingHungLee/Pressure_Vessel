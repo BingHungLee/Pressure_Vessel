{
  "nbformat": 4,
  "nbformat_minor": 0,
  "metadata": {
    "colab": {
      "name": "[ASME PV] Shell Thickness.ipynb",
      "provenance": [],
      "include_colab_link": true
    },
    "kernelspec": {
      "name": "python3",
      "display_name": "Python 3"
    }
  },
  "cells": [
    {
      "cell_type": "markdown",
      "metadata": {
        "id": "view-in-github",
        "colab_type": "text"
      },
      "source": [
        "<a href=\"https://colab.research.google.com/github/BingHungLee/Pressure_Vessel/blob/master/%5BASME_PV%5D_Shell_Thickness.ipynb\" target=\"_parent\"><img src=\"https://colab.research.google.com/assets/colab-badge.svg\" alt=\"Open In Colab\"/></a>"
      ]
    },
    {
      "cell_type": "code",
      "metadata": {
        "id": "oDNeNe4dcsAw",
        "colab_type": "code",
        "colab": {
          "base_uri": "https://localhost:8080/",
          "height": 54
        },
        "outputId": "8a5e74d1-ad9d-4270-f8db-4b0bb26f29d2"
      },
      "source": [
        "#Input Data\n",
        "'''\n",
        "Internal Design Pressure (kgf/cm2) [Pi]\n",
        "External Design Pressure (kgf/cm2) [Pe]\n",
        "Design Temperature under internal design pressure (C) [T]\n",
        "Design Temperauter under external design pressure (C) [Te]\n",
        "Inside Corrosion Allowance (mm) [Ca]\n",
        "Outside Corrosion Allowance (mm) [Co]\n",
        "\n",
        "Material of Shell \n",
        "Chart for determining shell thickness under external pressure  \n",
        "Allowable Stress of shell @ Design Temperaure (kgf/cm2) [Ss]\n",
        "Allowable Stress of shell @ Atmosphric Temperaure (kgf/cm2) [Sas]\n",
        "Allowable Yield Stress of shell @ Design Temperaure (kgf/cm2) [Sys]\n",
        "Joint Efficiency of Shell [E1]\n",
        "Inside diameter of Shell (mm) [Ds]\n",
        "Nominal thickness of Shell (mm) [ts]\n",
        "Maximum unsupport distance of shell under external pressure (mm) [L]\n",
        "'''"
      ],
      "execution_count": 1,
      "outputs": [
        {
          "output_type": "execute_result",
          "data": {
            "text/plain": [
              "'\\nInternal Design Pressure (kgf/cm2) [Pi]\\nExternal Design Pressure (kgf/cm2) [Pe]\\nDesign Temperature under internal design pressure (C) [T]\\nDesign Temperauter under external design pressure (C) [Te]\\nInside Corrosion Allowance (mm) [Ca]\\nOutside Corrosion Allowance (mm) [Co]\\n\\nMaterial of Shell \\nChart for determining shell thickness under external pressure  \\nAllowable Stress of shell @ Design Temperaure (kgf/cm2) [Ss]\\nAllowable Stress of shell @ Atmosphric Temperaure (kgf/cm2) [Sas]\\nAllowable Yield Stress of shell @ Design Temperaure (kgf/cm2) [Sys]\\nJoint Efficiency of Shell \\nInside diameter of Shell (mm) [Ds]\\nNominal thickness of Shell (mm) [ts]\\nMaximum unsupport distance of shell under external pressure (mm) [L]\\n'"
            ]
          },
          "metadata": {
            "tags": []
          },
          "execution_count": 1
        }
      ]
    },
    {
      "cell_type": "code",
      "metadata": {
        "id": "W4rt8cr2e7Ya",
        "colab_type": "code",
        "colab": {}
      },
      "source": [
        "Pi = 3.5\n",
        "Pe = 1.033\n",
        "T = 200\n",
        "Te = 200\n",
        "Ca = 3\n",
        "Co = 0\n",
        "\n",
        "#SA516-70\n",
        "Ss = 14.07\n",
        "Sas = 14.07\n",
        "Sys = 20.6\n",
        "E1 = 1\n",
        "Ds = 2000\n",
        "ts = 12\n",
        "L = 4000"
      ],
      "execution_count": 0,
      "outputs": []
    },
    {
      "cell_type": "code",
      "metadata": {
        "id": "YJ0WJKYgfbmp",
        "colab_type": "code",
        "colab": {}
      },
      "source": [
        "# [UG-99] Hydorstatic Test Pressure\n",
        "def Pt(Sas,Ss,Pi):\n",
        "  return = 1.3*Pi*(Sas/Ss)\n",
        "\n",
        "# [UG-27] Thicknes of Shell under Internal Pressure\n",
        "\n",
        "\n",
        "# [UG-28] Allowable External Pressure of Shell\n"
      ],
      "execution_count": 0,
      "outputs": []
    }
  ]
}